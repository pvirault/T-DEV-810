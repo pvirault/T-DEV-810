{
 "cells": [
  {
   "attachments": {},
   "cell_type": "markdown",
   "metadata": {},
   "source": [
    "1. Import dependencies for the project"
   ]
  },
  {
   "cell_type": "code",
   "execution_count": 24,
   "metadata": {},
   "outputs": [],
   "source": [
    "import torch\n",
    "import torch.nn as nn\n",
    "import torch.nn.init as init\n",
    "import torch.nn.functional as F\n",
    "import torch.optim as optim\n",
    "from torch.utils.data.sampler import *\n",
    "from torch.utils.data import Dataset\n",
    "\n",
    "import torchvision\n",
    "import torchvision.models as models\n",
    "from torchvision import transforms, datasets\n",
    "\n",
    "import numpy as np\n",
    "import seaborn as sns\n",
    "import matplotlib.pyplot as plt\n",
    "\n",
    "from sklearn.metrics import classification_report, confusion_matrix, roc_curve, auc, mean_squared_error\n",
    "from sklearn.neighbors import KNeighborsClassifier\n",
    "\n",
    "dataset_root = \"../datasets/chest_Xray/\" # put your own path to the given directory images here.\n",
    "batch_size = 128\n",
    "target_size = (224,224)\n",
    "device = torch.device(\"cuda\" if torch.cuda.is_available() else \"cpu\")"
   ]
  },
  {
   "attachments": {},
   "cell_type": "markdown",
   "metadata": {},
   "source": [
    "2. Data Loading and Modifications"
   ]
  },
  {
   "cell_type": "code",
   "execution_count": 15,
   "metadata": {},
   "outputs": [],
   "source": [
    "# Get the transforms\n",
    "def load_datasets():\n",
    "\n",
    "    # Transforms for the image.\n",
    "    transform = transforms.Compose([\n",
    "                        transforms.Grayscale(),\n",
    "                        transforms.Resize(target_size),\n",
    "                        transforms.ToTensor(),\n",
    "                        transforms.Normalize((0.5,), (0.5,)),\n",
    "                        nn.Flatten()\n",
    "                ])\n",
    "\n",
    "    # Define the image folder for each of the data set types\n",
    "    trainset = torchvision.datasets.ImageFolder(\n",
    "        root=dataset_root + 'train',\n",
    "        transform=transform\n",
    "    )\n",
    "    validset = torchvision.datasets.ImageFolder(\n",
    "        root=dataset_root + 'val',\n",
    "        transform=transform\n",
    "    )\n",
    "    testset = torchvision.datasets.ImageFolder(\n",
    "        root=dataset_root + 'test',\n",
    "        transform=transform\n",
    "    )\n",
    "\n",
    "\n",
    "    # Define indexes and get the subset random sample of each.\n",
    "    train_dataloader = torch.utils.data.DataLoader(trainset, batch_size=len(trainset), shuffle=True)\n",
    "    valid_dataloader = torch.utils.data.DataLoader(validset, batch_size=len(validset), shuffle=True)\n",
    "    test_dataloader = torch.utils.data.DataLoader(testset, batch_size=len(testset), shuffle=True)\n",
    "\n",
    "\n",
    "    # Convert data to tensors. This could be made faster.\n",
    "    x_test = []\n",
    "    y_test = []\n",
    "    for idx, (data, tar) in enumerate(test_dataloader):\n",
    "        x_test = data.squeeze()\n",
    "        y_test = tar.squeeze()\n",
    "\n",
    "    x_train = []\n",
    "    y_train = []\n",
    "    for idx, (data, tar) in enumerate(train_dataloader):\n",
    "        x_train = data.squeeze()\n",
    "        y_train = tar.squeeze()\n",
    "        \n",
    "    x_test = torch.tensor(x_test, device=device)\n",
    "    y_test = torch.tensor(y_test, device=device)\n",
    "    x_train = torch.tensor(x_train, device=device)\n",
    "    y_train = torch.tensor(y_train, device=device)\n",
    "    return x_train, y_train, x_test, y_test"
   ]
  },
  {
   "attachments": {},
   "cell_type": "markdown",
   "metadata": {},
   "source": [
    "3. KNN"
   ]
  },
  {
   "cell_type": "code",
   "execution_count": 16,
   "metadata": {},
   "outputs": [],
   "source": [
    "def knn(x_train, y_train, x_test, k, device, log_interval=100, log=True):\n",
    "\n",
    "    # Get the amount of images, training images, and image size.\n",
    "    num_images = x_test.shape[0]\n",
    "    num_train = y_train.shape[0]\n",
    "    img_size = x_test.shape[1]\n",
    "\n",
    "    y_test = torch.zeros((num_images), device=device, dtype=torch.float)\n",
    "\n",
    "    # For each of the images in the test set\n",
    "    for test_index in range(0, num_images):\n",
    "\n",
    "        # Get the image and calculate the distance to every item in the trainset\n",
    "        test_image = x_test[test_index]\n",
    "        distances = torch.norm(x_train - test_image, dim=1)\n",
    "\n",
    "        # Get the top k indexes and get the most used index between them all\n",
    "        indexes = torch.topk(distances, k, largest=False)[1]\n",
    "        classes = torch.gather(y_train, 0, indexes)\n",
    "        mode = int(torch.mode(classes)[0])\n",
    "\n",
    "        # Save the test value in the index.\n",
    "        y_test[test_index] = mode\n",
    "\n",
    "        # Logging since with large sets it may be helpful\n",
    "        if log:\n",
    "            if test_index % log_interval == 0:\n",
    "                print(\"Currently predicting at test_index = %d\" % test_index)\n",
    "\n",
    "    return y_test"
   ]
  },
  {
   "attachments": {},
   "cell_type": "markdown",
   "metadata": {},
   "source": [
    "4. Testing"
   ]
  },
  {
   "cell_type": "code",
   "execution_count": 17,
   "metadata": {},
   "outputs": [
    {
     "name": "stdout",
     "output_type": "stream",
     "text": [
      "Loading data from folders.\n"
     ]
    },
    {
     "name": "stderr",
     "output_type": "stream",
     "text": [
      "/var/folders/w2/4ws264zn1856br7h43g6nb100000gn/T/ipykernel_6664/2891613063.py:47: UserWarning: To copy construct from a tensor, it is recommended to use sourceTensor.clone().detach() or sourceTensor.clone().detach().requires_grad_(True), rather than torch.tensor(sourceTensor).\n",
      "  x_test = torch.tensor(x_test, device=device)\n",
      "/var/folders/w2/4ws264zn1856br7h43g6nb100000gn/T/ipykernel_6664/2891613063.py:48: UserWarning: To copy construct from a tensor, it is recommended to use sourceTensor.clone().detach() or sourceTensor.clone().detach().requires_grad_(True), rather than torch.tensor(sourceTensor).\n",
      "  y_test = torch.tensor(y_test, device=device)\n",
      "/var/folders/w2/4ws264zn1856br7h43g6nb100000gn/T/ipykernel_6664/2891613063.py:49: UserWarning: To copy construct from a tensor, it is recommended to use sourceTensor.clone().detach() or sourceTensor.clone().detach().requires_grad_(True), rather than torch.tensor(sourceTensor).\n",
      "  x_train = torch.tensor(x_train, device=device)\n"
     ]
    },
    {
     "name": "stdout",
     "output_type": "stream",
     "text": [
      "Loaded train and test with sizes: torch.Size([5216, 50176]), torch.Size([624, 50176])\n"
     ]
    },
    {
     "name": "stderr",
     "output_type": "stream",
     "text": [
      "/var/folders/w2/4ws264zn1856br7h43g6nb100000gn/T/ipykernel_6664/2891613063.py:50: UserWarning: To copy construct from a tensor, it is recommended to use sourceTensor.clone().detach() or sourceTensor.clone().detach().requires_grad_(True), rather than torch.tensor(sourceTensor).\n",
      "  y_train = torch.tensor(y_train, device=device)\n"
     ]
    }
   ],
   "source": [
    "print(\"Loading data from folders.\")\n",
    "x_train, y_train, x_test, y_test = load_datasets()\n",
    "print(\"Loaded train and test with sizes: %s, %s\" % (str(x_train.shape), str(x_test.shape)))"
   ]
  },
  {
   "cell_type": "code",
   "execution_count": 18,
   "metadata": {},
   "outputs": [
    {
     "name": "stdout",
     "output_type": "stream",
     "text": [
      "Currently predicting at test_index = 0\n",
      "Currently predicting at test_index = 100\n",
      "Currently predicting at test_index = 200\n",
      "Currently predicting at test_index = 300\n",
      "Currently predicting at test_index = 400\n",
      "Currently predicting at test_index = 500\n",
      "Currently predicting at test_index = 600\n"
     ]
    }
   ],
   "source": [
    "pred = knn(x_train, y_train, x_test, k=1, device=device)"
   ]
  },
  {
   "cell_type": "code",
   "execution_count": 19,
   "metadata": {},
   "outputs": [
    {
     "name": "stdout",
     "output_type": "stream",
     "text": [
      "Correct predictions: 473/624, Accuracy: 75.801285\n"
     ]
    }
   ],
   "source": [
    "correct = pred.eq(y_test.to(device).view_as(pred)).sum()\n",
    "print(\"Correct predictions: %d/%d, Accuracy: %f\" % (correct, y_test.shape[0], 100. * correct / y_test.shape[0]))"
   ]
  },
  {
   "attachments": {},
   "cell_type": "markdown",
   "metadata": {},
   "source": [
    "5. Hyperparameter Grid Search"
   ]
  },
  {
   "cell_type": "code",
   "execution_count": 20,
   "metadata": {},
   "outputs": [
    {
     "name": "stdout",
     "output_type": "stream",
     "text": [
      "K = 1, Correct: 473, Accuracy: 75.80\n",
      "K = 2, Correct: 498, Accuracy: 79.81\n",
      "K = 3, Correct: 468, Accuracy: 75.00\n",
      "K = 4, Correct: 488, Accuracy: 78.21\n",
      "K = 5, Correct: 461, Accuracy: 73.88\n",
      "K = 6, Correct: 475, Accuracy: 76.12\n",
      "K = 7, Correct: 464, Accuracy: 74.36\n",
      "K = 8, Correct: 474, Accuracy: 75.96\n",
      "K = 9, Correct: 461, Accuracy: 73.88\n",
      "K = 10, Correct: 469, Accuracy: 75.16\n",
      "K = 13, Correct: 452, Accuracy: 72.44\n",
      "K = 25, Correct: 449, Accuracy: 71.96\n",
      "K = 37, Correct: 443, Accuracy: 70.99\n",
      "K = 49, Correct: 439, Accuracy: 70.35\n",
      "K = 72, Correct: 441, Accuracy: 70.67\n",
      "K = 200, Correct: 432, Accuracy: 69.23\n"
     ]
    }
   ],
   "source": [
    "k_values = [1, 2, 3, 4, 5, 6, 7, 8, 9, 10, 13, 25, 37, 49, int(np.floor(np.sqrt(x_train.shape[0]))), 200]\n",
    "\n",
    "correct_vals = []\n",
    "\n",
    "best_k = -1\n",
    "best_correct = 0\n",
    "\n",
    "for k in k_values:\n",
    "    pred = knn(x_train, y_train, x_test, k=k, device=device, log=False)\n",
    "    correct = pred.eq(y_test.view_as(pred)).sum()\n",
    "    print(\"K = %d, Correct: %d, Accuracy: %.2f\" % (k, correct, 100. * correct / y_test.shape[0]))"
   ]
  },
  {
   "attachments": {},
   "cell_type": "markdown",
   "metadata": {},
   "source": [
    "6. Init function to show confusion matrix and ROC curve"
   ]
  },
  {
   "cell_type": "code",
   "execution_count": 34,
   "metadata": {},
   "outputs": [],
   "source": [
    "def showConfusionMatrix(cf_matrix) :\n",
    "        group_names = ['True Neg','False Pos','False Neg','True Pos']\n",
    "\n",
    "        group_counts = [\"{0:0.0f}\".format(value) for value in\n",
    "                        cf_matrix.flatten()]\n",
    "\n",
    "        group_percentages = [\"{0:.2%}\".format(value) for value in\n",
    "                        cf_matrix.flatten()/np.sum(cf_matrix)]\n",
    "\n",
    "        labels = [f\"{v1}\\n{v2}\\n{v3}\" for v1, v2, v3 in\n",
    "                zip(group_names,group_counts,group_percentages)]\n",
    "\n",
    "        labels = np.asarray(labels).reshape(2,2)\n",
    "        sns.heatmap(cf_matrix, annot=labels, fmt='', cmap='Blues')\n",
    "\n",
    "        plt.title('Confusion Matrix')\n",
    "\n",
    "        plt.show()\n",
    "\n",
    "def showRocCurve(fpr, tpr, roc_auc) :\n",
    "        plt.title('Receiver Operating Characteristic (ROC) of kNN')\n",
    "        plt.plot(fpr, tpr, 'b', label = 'AUC = %0.2f' % roc_auc)\n",
    "        plt.legend(loc = 'lower right')\n",
    "        plt.plot([0, 1], [0, 1],'r--')\n",
    "        plt.xlim([0, 1])\n",
    "        plt.ylim([0, 1])\n",
    "        plt.ylabel('True Positive Rate')\n",
    "        plt.xlabel('False Positive Rate')\n",
    "        plt.show()"
   ]
  },
  {
   "attachments": {},
   "cell_type": "markdown",
   "metadata": {},
   "source": [
    "7. Predict on Test dataset"
   ]
  },
  {
   "cell_type": "code",
   "execution_count": 36,
   "metadata": {},
   "outputs": [
    {
     "name": "stdout",
     "output_type": "stream",
     "text": [
      "KNN accuracy score is: 0.7516025641025641\n"
     ]
    },
    {
     "data": {
      "image/png": "[encoded data removed]",
      "text/plain": [
       "<Figure size 640x480 with 2 Axes>"
      ]
     },
     "metadata": {},
     "output_type": "display_data"
    },
    {
     "data": {
      "image/png": "[encoded data removed]",
      "text/plain": [
       "<Figure size 640x480 with 1 Axes>"
      ]
     },
     "metadata": {},
     "output_type": "display_data"
    },
    {
     "name": "stdout",
     "output_type": "stream",
     "text": [
      "Classification report:\n",
      "               precision    recall  f1-score   support\n",
      "\n",
      "           0       0.96      0.35      0.51       234\n",
      "           1       0.72      0.99      0.83       390\n",
      "\n",
      "    accuracy                           0.75       624\n",
      "   macro avg       0.84      0.67      0.67       624\n",
      "weighted avg       0.81      0.75      0.71       624\n",
      "\n"
     ]
    }
   ],
   "source": [
    "#making an instance of algorithm\n",
    "knn = KNeighborsClassifier(n_neighbors=10)\n",
    "\n",
    "#fitting using x_train and y_train\n",
    "knn.fit(x_train, y_train)\n",
    "\n",
    "#scoring\n",
    "print('KNN accuracy score is: ' + str(knn.score(x_test, y_test)))\n",
    "\n",
    "# Test the final model on the test data\n",
    "y_pred_test = knn.predict(x_test)\n",
    "\n",
    "# Compute the probabilities of belonging to the positive class\n",
    "y_score_test = knn.predict_proba(x_test)\n",
    "\n",
    "# Compute the false positive rate (fpr), true positive rate (tpr) and the threshold\n",
    "fpr, tpr, threshold = roc_curve(y_test, y_score_test[:, 1])\n",
    "\n",
    "# Compute the area under the ROC curve (AUC)\n",
    "roc_auc = auc(fpr, tpr)\n",
    "\n",
    "cm_test = confusion_matrix(y_test, y_pred_test)\n",
    "\n",
    "cr_test = classification_report(y_test, y_pred_test)\n",
    "\n",
    "showConfusionMatrix(cm_test)\n",
    "showRocCurve(fpr, tpr, roc_auc)\n",
    "print(\"Classification report:\\n\", cr_test)"
   ]
  }
 ],
 "metadata": {
  "kernelspec": {
   "display_name": "Python 3",
   "language": "python",
   "name": "python3"
  },
  "language_info": {
   "codemirror_mode": {
    "name": "ipython",
    "version": 3
   },
   "file_extension": ".py",
   "mimetype": "text/x-python",
   "name": "python",
   "nbconvert_exporter": "python",
   "pygments_lexer": "ipython3",
   "version": "3.11.2"
  },
  "orig_nbformat": 4
 },
 "nbformat": 4,
 "nbformat_minor": 2
}
