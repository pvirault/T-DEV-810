{
 "cells": [
  {
   "cell_type": "code",
   "execution_count": 9,
   "metadata": {},
   "outputs": [],
   "source": [
    "# This Python 3 environment comes with many helpful analytics libraries installed\n",
    "# It is defined by the kaggle/python docker image: https://github.com/kaggle/docker-python\n",
    "# For example, here's several helpful packages to load in \n",
    "\n",
    "import numpy as np # linear algebra\n",
    "import pandas as pd # data processing, CSV file I/O (e.g. pd.read_csv)\n",
    "\n",
    "\n",
    "# Any results you write to the current directory are saved as output.\n",
    "import matplotlib.pyplot as plt\n",
    "import numpy as np\n",
    "import torch\n",
    "from torch import nn, optim\n",
    "import torch.nn.functional as F\n",
    "from torchvision import datasets, transforms\n",
    "from torchvision.utils import save_image\n",
    "import os"
   ]
  },
  {
   "cell_type": "code",
   "execution_count": 10,
   "metadata": {},
   "outputs": [],
   "source": [
    "batch_size = 500\n",
    "\n",
    "# 64x64 images!\n",
    "transform = transforms.Compose([transforms.Resize(64),\n",
    "                                transforms.CenterCrop(64),\n",
    "                                transforms.Grayscale(num_output_channels=1),\n",
    "                                transforms.ToTensor(),\n",
    "                                transforms.Normalize(0.5, 0.5)])\n",
    "\n",
    "train_data = datasets.ImageFolder('./../../chestXray/train/', transform=transform)\n",
    "train_loader = torch.utils.data.DataLoader(train_data, shuffle=True,\n",
    "                                           batch_size=batch_size)\n",
    "                                           \n",
    "imgs, label = next(iter(train_loader))\n",
    "imgs = imgs.numpy().transpose(0, 2, 3, 1)"
   ]
  },
  {
   "cell_type": "code",
   "execution_count": 11,
   "metadata": {},
   "outputs": [
    {
     "name": "stdout",
     "output_type": "stream",
     "text": [
      "500\n"
     ]
    },
    {
     "data": {
      "text/plain": [
       "<matplotlib.image.AxesImage at 0x1b8f9d9c450>"
      ]
     },
     "execution_count": 11,
     "metadata": {},
     "output_type": "execute_result"
    },
    {
     "data": {
      "image/png": "[encoded data removed]",
      "text/plain": [
       "<Figure size 640x480 with 1 Axes>"
      ]
     },
     "metadata": {},
     "output_type": "display_data"
    }
   ],
   "source": [
    "print(len(imgs))\n",
    "plt.imshow(imgs[1], cmap=plt.cm.binary)\n",
    "# print(label)"
   ]
  },
  {
   "cell_type": "code",
   "execution_count": 12,
   "metadata": {},
   "outputs": [],
   "source": [
    "class Generator(nn.Module):\n",
    "    def __init__(self, nz, nfeats, nchannels):\n",
    "        super(Generator, self).__init__()\n",
    "\n",
    "        # input is Z, going into a convolution\n",
    "        self.conv1 = nn.ConvTranspose2d(nz, nfeats * 8, 4, 1, 0, bias=False)\n",
    "        self.bn1 = nn.BatchNorm2d(nfeats * 8)\n",
    "        # state size. (nfeats*8) x 4 x 4\n",
    "        \n",
    "        self.conv2 = nn.ConvTranspose2d(nfeats * 8, nfeats * 8, 4, 2, 1, bias=False)\n",
    "        self.bn2 = nn.BatchNorm2d(nfeats * 8)\n",
    "        # state size. (nfeats*8) x 8 x 8\n",
    "        \n",
    "        self.conv3 = nn.ConvTranspose2d(nfeats * 8, nfeats * 4, 4, 2, 1, bias=False)\n",
    "        self.bn3 = nn.BatchNorm2d(nfeats * 4)\n",
    "        # state size. (nfeats*4) x 16 x 16\n",
    "        \n",
    "        self.conv4 = nn.ConvTranspose2d(nfeats * 4, nfeats * 2, 4, 2, 1, bias=False)\n",
    "        self.bn4 = nn.BatchNorm2d(nfeats * 2)\n",
    "        # state size. (nfeats * 2) x 32 x 32\n",
    "        \n",
    "        self.conv5 = nn.ConvTranspose2d(nfeats * 2, nfeats, 4, 2, 1, bias=False)\n",
    "        self.bn5 = nn.BatchNorm2d(nfeats)\n",
    "        # state size. (nfeats) x 64 x 64\n",
    "        \n",
    "        self.conv6 = nn.ConvTranspose2d(nfeats, nchannels, 3, 1, 1, bias=False)\n",
    "        # state size. (nchannels) x 64 x 64\n",
    "\n",
    "    def forward(self, x):\n",
    "        x = F.leaky_relu(self.bn1(self.conv1(x)))\n",
    "        x = F.leaky_relu(self.bn2(self.conv2(x)))\n",
    "        x = F.leaky_relu(self.bn3(self.conv3(x)))\n",
    "        x = F.leaky_relu(self.bn4(self.conv4(x)))\n",
    "        x = F.leaky_relu(self.bn5(self.conv5(x)))\n",
    "        x = torch.tanh(self.conv6(x))\n",
    "        \n",
    "        return x"
   ]
  },
  {
   "cell_type": "code",
   "execution_count": 13,
   "metadata": {},
   "outputs": [],
   "source": [
    "class Discriminator(nn.Module):\n",
    "    def __init__(self, nchannels, nfeats):\n",
    "        super(Discriminator, self).__init__()\n",
    "\n",
    "        # input is (nchannels) x 64 x 64\n",
    "        self.conv1 = nn.Conv2d(nchannels, nfeats, 4, 2, 1, bias=False)\n",
    "        # state size. (nfeats) x 32 x 32\n",
    "        \n",
    "        self.conv2 = nn.Conv2d(nfeats, nfeats * 2, 4, 2, 1, bias=False)\n",
    "        self.bn2 = nn.BatchNorm2d(nfeats * 2)\n",
    "        # state size. (nfeats*2) x 16 x 16\n",
    "        \n",
    "        self.conv3 = nn.Conv2d(nfeats * 2, nfeats * 4, 4, 2, 1, bias=False)\n",
    "        self.bn3 = nn.BatchNorm2d(nfeats * 4)\n",
    "        # state size. (nfeats*4) x 8 x 8\n",
    "       \n",
    "        self.conv4 = nn.Conv2d(nfeats * 4, nfeats * 8, 4, 2, 1, bias=False)\n",
    "        self.bn4 = nn.BatchNorm2d(nfeats * 8)\n",
    "        # state size. (nfeats*8) x 4 x 4\n",
    "        \n",
    "        self.conv5 = nn.Conv2d(nfeats * 8, 1, 4, 1, 0, bias=False)\n",
    "        # state size. 1 x 1 x 1\n",
    "        \n",
    "    def forward(self, x):\n",
    "        x = F.leaky_relu(self.conv1(x), 0.2)\n",
    "        x = F.leaky_relu(self.bn2(self.conv2(x)), 0.2)\n",
    "        x = F.leaky_relu(self.bn3(self.conv3(x)), 0.2)\n",
    "        x = F.leaky_relu(self.bn4(self.conv4(x)), 0.2)\n",
    "        x = torch.sigmoid(self.conv5(x))\n",
    "        \n",
    "        return x.view(-1, 1)"
   ]
  },
  {
   "cell_type": "code",
   "execution_count": 14,
   "metadata": {},
   "outputs": [],
   "source": [
    "device = torch.device(\"cuda\" if torch.cuda.is_available() else \"cpu\")\n",
    "\n",
    "lr = 0.0003\n",
    "beta1 = 0.5\n",
    "\n",
    "netG = Generator(100, 32, 1).to(device)\n",
    "netD = Discriminator(1, 48).to(device)\n",
    "\n",
    "criterion = nn.BCELoss()\n",
    "\n",
    "optimizerD = optim.Adam(netD.parameters(), lr=lr, betas=(beta1, 0.999))\n",
    "optimizerG = optim.Adam(netG.parameters(), lr=lr, betas=(beta1, 0.999))\n",
    "\n",
    "nz = 100\n",
    "fixed_noise = torch.randn(25, nz, 1, 1, device=device)\n",
    "\n",
    "real_label = 0.9\n",
    "fake_label = 0\n",
    "batch_size = train_loader.batch_size"
   ]
  },
  {
   "cell_type": "code",
   "execution_count": 15,
   "metadata": {},
   "outputs": [
    {
     "name": "stdout",
     "output_type": "stream",
     "text": [
      "[1/120][0/11] Loss_D: 1.3821 Loss_G: 2.3737 D(x): 0.5647 D(G(z)): 0.5312 / 0.0767\n",
      "[46/120][5/11] Loss_D: 1.1028 Loss_G: 1.2868 D(x): 0.4602 D(G(z)): 0.2259 / 0.2662\n",
      "[91/120][10/11] Loss_D: 1.0329 Loss_G: 1.5185 D(x): 0.4560 D(G(z)): 0.1837 / 0.2212\n"
     ]
    }
   ],
   "source": [
    "\n",
    "### training here\n",
    "\n",
    "epochs = 120\n",
    "\n",
    "step = 0\n",
    "for epoch in range(epochs):\n",
    "    for ii, (real_images, train_labels) in enumerate(train_loader):\n",
    "        ############################\n",
    "        # (1) Update D network: maximize log(D(x)) + log(1 - D(G(z)))\n",
    "        ###########################\n",
    "        # train with real\n",
    "        netD.zero_grad()\n",
    "        real_images = real_images.to(device)\n",
    "        batch_size = real_images.size(0)\n",
    "        labels = torch.full((batch_size, 1), real_label, device=device)\n",
    "\n",
    "        output = netD(real_images)\n",
    "        errD_real = criterion(output, labels)\n",
    "        errD_real.backward()\n",
    "        D_x = output.mean().item()\n",
    "\n",
    "        # train with fake\n",
    "        noise = torch.randn(batch_size, nz, 1, 1, device=device)\n",
    "        fake = netG(noise)\n",
    "        labels.fill_(fake_label)\n",
    "        output = netD(fake.detach())\n",
    "        errD_fake = criterion(output, labels)\n",
    "        errD_fake.backward()\n",
    "        D_G_z1 = output.mean().item()\n",
    "        errD = errD_real + errD_fake\n",
    "        optimizerD.step()\n",
    "\n",
    "        ############################\n",
    "        # (2) Update G network: maximize log(D(G(z)))\n",
    "        ###########################\n",
    "        netG.zero_grad()\n",
    "        labels.fill_(real_label)  # fake labels are real for generator cost\n",
    "        output = netD(fake)\n",
    "        errG = criterion(output, labels)\n",
    "        errG.backward()\n",
    "        D_G_z2 = output.mean().item()\n",
    "        optimizerG.step()\n",
    "        \n",
    "        if step % 500 == 0:\n",
    "            print('[%d/%d][%d/%d] Loss_D: %.4f Loss_G: %.4f D(x): %.4f D(G(z)): %.4f / %.4f'\n",
    "                  % (epoch + 1, epochs, ii, len(train_loader),\n",
    "                     errD.item(), errG.item(), D_x, D_G_z1, D_G_z2))\n",
    "            \n",
    "            valid_image = netG(fixed_noise)\n",
    "        step += 1"
   ]
  },
  {
   "cell_type": "code",
   "execution_count": 16,
   "metadata": {},
   "outputs": [
    {
     "data": {
      "text/plain": [
       "'c:\\\\Users\\\\gabri\\\\Desktop\\\\Epitech\\\\T_DEV_810\\\\T-DEV-810-TLS_2\\\\GAN\\\\images.zip'"
      ]
     },
     "execution_count": 16,
     "metadata": {},
     "output_type": "execute_result"
    }
   ],
   "source": [
    "\n",
    "# torch.save(netG.state_dict(), 'generator.pth')\n",
    "# torch.save(netD.state_dict(), 'discriminator.pth')\n",
    "\n",
    "\n",
    "if not os.path.exists('../output_images'):\n",
    "    os.mkdir('../output_images')\n",
    "im_batch_size = 50\n",
    "n_images=200\n",
    "for i_batch in range(0, n_images, im_batch_size):\n",
    "    gen_z = torch.randn(im_batch_size, 100, 1, 1, device=device)\n",
    "    gen_images = netG(gen_z)\n",
    "    images = gen_images.to(\"cpu\").clone().detach()\n",
    "    images = images.numpy().transpose(0, 2, 3, 1)\n",
    "    for i_image in range(gen_images.size(0)):\n",
    "        save_image(gen_images[i_image, :, :, :], os.path.join('../output_images', f'image_{i_batch+i_image:05d}.png'))\n",
    "\n",
    "\n",
    "import shutil\n",
    "shutil.make_archive('images', 'zip', '../output_images')"
   ]
  }
 ],
 "metadata": {
  "kernelspec": {
   "display_name": "Python 3",
   "language": "python",
   "name": "python3"
  },
  "language_info": {
   "codemirror_mode": {
    "name": "ipython",
    "version": 3
   },
   "file_extension": ".py",
   "mimetype": "text/x-python",
   "name": "python",
   "nbconvert_exporter": "python",
   "pygments_lexer": "ipython3",
   "version": "3.11.0"
  },
  "orig_nbformat": 4
 },
 "nbformat": 4,
 "nbformat_minor": 2
}
